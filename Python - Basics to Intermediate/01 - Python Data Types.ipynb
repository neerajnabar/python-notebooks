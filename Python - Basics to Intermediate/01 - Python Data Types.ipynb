{
 "cells": [
  {
   "cell_type": "markdown",
   "metadata": {},
   "source": [
    "## Bare basics"
   ]
  },
  {
   "cell_type": "markdown",
   "metadata": {},
   "source": [
    "### Numbers"
   ]
  },
  {
   "cell_type": "code",
   "execution_count": 29,
   "metadata": {},
   "outputs": [],
   "source": [
    "a = 1\n",
    "\n",
    "print(a)\n",
    "print(a + 2)"
   ]
  },
  {
   "cell_type": "code",
   "execution_count": 25,
   "metadata": {},
   "outputs": [],
   "source": [
    "b = 2.7\n",
    "c = 3.6\n",
    "\n",
    "print(b + c)"
   ]
  },
  {
   "cell_type": "markdown",
   "metadata": {},
   "source": [
    "#### Operations on numbers"
   ]
  },
  {
   "cell_type": "code",
   "execution_count": 27,
   "metadata": {},
   "outputs": [
    {
     "name": "stdout",
     "output_type": "stream",
     "text": [
      "6.300000000000001\n",
      "-0.8999999999999999\n",
      "9.72\n",
      "1.35\n",
      "1.0\n",
      "0.7000000000000002\n"
     ]
    }
   ],
   "source": [
    "print(b + c)    # Addition\n",
    "print(b - c)    # Subtraction\n",
    "print(b * c)    # Multiplication\n",
    "print(b / 2)    # Division (Python 3 returns a float, instead of a truncated int)\n",
    "print(b // 2)   # Truncated division (given by the / operator in Python2.7)\n",
    "print(b % 2)    # Modulo-n arithmetic (remainder after division by n)"
   ]
  },
  {
   "cell_type": "code",
   "execution_count": 16,
   "metadata": {},
   "outputs": [
    {
     "name": "stdout",
     "output_type": "stream",
     "text": [
      "type(a) = <class 'int'>\n",
      "type(b) = <class 'int'>\n",
      "type(c) = <class 'float'>\n"
     ]
    }
   ],
   "source": [
    "print(f\"type(a) = {type(a)}\") # pay special attention to the 'f-strings'. They were introduced in Python 3.6\n",
    "print(f\"type(b) = {type(b)}\")\n",
    "print(f\"type(c) = {type(c)}\")"
   ]
  },
  {
   "cell_type": "markdown",
   "metadata": {},
   "source": [
    "### Strings"
   ]
  },
  {
   "cell_type": "code",
   "execution_count": 10,
   "metadata": {},
   "outputs": [],
   "source": [
    "my_str = \"This is a string\""
   ]
  },
  {
   "cell_type": "code",
   "execution_count": 31,
   "metadata": {},
   "outputs": [
    {
     "name": "stdout",
     "output_type": "stream",
     "text": [
      "T\n",
      "h\n",
      "g\n"
     ]
    }
   ],
   "source": [
    "# String indexing\n",
    "print(my_str[0])\n",
    "print(my_str[1])\n",
    "print(my_str[-1]) # ([-n] denotes nth from last)"
   ]
  },
  {
   "cell_type": "code",
   "execution_count": 32,
   "metadata": {},
   "outputs": [
    {
     "name": "stdout",
     "output_type": "stream",
     "text": [
      "0\n",
      "11\n",
      "2\n"
     ]
    }
   ],
   "source": [
    "print(my_str.index(\"T\"))\n",
    "print(my_str.index(\"t\"))\n",
    "print(my_str.index(\"is\")) # gives the index of the first match, first occurence of the substring 'is' is at index 2 (3rd position)"
   ]
  },
  {
   "cell_type": "markdown",
   "metadata": {},
   "source": [
    "#### String operations"
   ]
  },
  {
   "cell_type": "code",
   "execution_count": 33,
   "metadata": {},
   "outputs": [],
   "source": [
    "my_str_1 = \"Hello\"\n",
    "my_str_2 = \"World\""
   ]
  },
  {
   "cell_type": "code",
   "execution_count": 35,
   "metadata": {},
   "outputs": [
    {
     "name": "stdout",
     "output_type": "stream",
     "text": [
      "HelloWorld\n",
      "Hello World\n"
     ]
    }
   ],
   "source": [
    "print(my_str_1 + my_str_2)\n",
    "print(my_str_1 + \" \" + my_str_2)"
   ]
  },
  {
   "cell_type": "code",
   "execution_count": 37,
   "metadata": {},
   "outputs": [
    {
     "name": "stdout",
     "output_type": "stream",
     "text": [
      "HELLO\n",
      "hello\n",
      "Hello\n"
     ]
    }
   ],
   "source": [
    "print(my_str_1.upper())\n",
    "print(my_str_1.lower())\n",
    "print(my_str_1.title())"
   ]
  },
  {
   "cell_type": "code",
   "execution_count": null,
   "metadata": {},
   "outputs": [],
   "source": []
  }
 ],
 "metadata": {
  "kernelspec": {
   "display_name": "Python 3",
   "language": "python",
   "name": "python3"
  },
  "language_info": {
   "codemirror_mode": {
    "name": "ipython",
    "version": 3
   },
   "file_extension": ".py",
   "mimetype": "text/x-python",
   "name": "python",
   "nbconvert_exporter": "python",
   "pygments_lexer": "ipython3",
   "version": "3.8.2"
  }
 },
 "nbformat": 4,
 "nbformat_minor": 4
}
